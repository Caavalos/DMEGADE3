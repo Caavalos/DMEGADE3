{
  "nbformat": 4,
  "nbformat_minor": 0,
  "metadata": {
    "colab": {
      "provenance": []
    },
    "kernelspec": {
      "name": "python3",
      "display_name": "Python 3"
    }
  },
  "cells": [
    {
      "cell_type": "markdown",
      "source": [
        "#**Maestría en Analítica de Negocios**\n",
        "##**Curso: Inteligencia Artificial y Aprendizaje Automático**\n",
        "###Tecnológico de Monterrey\n",
        "###Prof Luis Eduardo Falcón Morales\n",
        "\n",
        "####**Filtrado de datos (data leakage) / Pipeline / Curvas de Aprendizaje**"
      ],
      "metadata": {
        "id": "iZH_9AwunsKz"
      }
    },
    {
      "cell_type": "code",
      "source": [
        "# Librerías básicas que estaremos requiriendo en la mayoría de las actividades. \n",
        "# Recuerda usar el # para documentar tu código dentro de estas celdas de Código.\n",
        "\n",
        "import numpy as np\n",
        "import pandas as pd\n",
        "import matplotlib.pyplot as plt \n",
        "import seaborn as sns   # para un mejor despliegue de los gráficos\n",
        "\n",
        "from sklearn.model_selection import train_test_split\n",
        "from sklearn.linear_model import LinearRegression\n",
        "from sklearn.metrics import mean_squared_error\n",
        "from sklearn.preprocessing import StandardScaler"
      ],
      "metadata": {
        "id": "WgYhkVetDbmh"
      },
      "execution_count": 1,
      "outputs": []
    },
    {
      "cell_type": "code",
      "source": [
        "# Queremos accesar el archivo que está en la carpeta \"sample_data\" en la cual nos encontramos de manera  \n",
        "# predeterminada y que podemos verificar con el siguiente comando que nos permite listar sus archivos\n",
        "# y directorios:\n",
        "\n",
        "!ls"
      ],
      "metadata": {
        "colab": {
          "base_uri": "https://localhost:8080/"
        },
        "id": "Lm6QHJzj9WHE",
        "outputId": "1be698be-812c-45f1-ad2d-b99ce839df1d"
      },
      "execution_count": 2,
      "outputs": [
        {
          "output_type": "stream",
          "name": "stdout",
          "text": [
            "sample_data\n"
          ]
        }
      ]
    },
    {
      "cell_type": "code",
      "source": [
        "# La siguiente instrucción nos permite adentrarnos en dicha carpeta y de nuevo listamos lo que hay dentro de ella:\n",
        "\n",
        "%cd sample_data/\n",
        "\n",
        "!ls"
      ],
      "metadata": {
        "colab": {
          "base_uri": "https://localhost:8080/"
        },
        "id": "Sq7zYLgoBcV6",
        "outputId": "f92213f7-dc8c-4ee3-95cb-00320f809e27"
      },
      "execution_count": 3,
      "outputs": [
        {
          "output_type": "stream",
          "name": "stdout",
          "text": [
            "/content/sample_data\n",
            "anscombe.json\t\t      mnist_test.csv\n",
            "california_housing_test.csv   mnist_train_small.csv\n",
            "california_housing_train.csv  README.md\n"
          ]
        }
      ]
    },
    {
      "cell_type": "code",
      "metadata": {
        "id": "ffesEiE3RAml",
        "colab": {
          "base_uri": "https://localhost:8080/",
          "height": 206
        },
        "outputId": "61ac123e-c8a9-4cf9-c703-ab143182336d"
      },
      "source": [
        "# En particular, los datos para el entrenamiento los encontramos obviamente en el siguiente archivo, el cual procedemos a cargar: \n",
        "\n",
        "data = pd.read_csv(\"california_housing_train.csv\", sep=\",\")\n",
        "data.head()"
      ],
      "execution_count": 4,
      "outputs": [
        {
          "output_type": "execute_result",
          "data": {
            "text/plain": [
              "   longitude  latitude  housing_median_age  total_rooms  total_bedrooms  \\\n",
              "0    -114.31     34.19                15.0       5612.0          1283.0   \n",
              "1    -114.47     34.40                19.0       7650.0          1901.0   \n",
              "2    -114.56     33.69                17.0        720.0           174.0   \n",
              "3    -114.57     33.64                14.0       1501.0           337.0   \n",
              "4    -114.57     33.57                20.0       1454.0           326.0   \n",
              "\n",
              "   population  households  median_income  median_house_value  \n",
              "0      1015.0       472.0         1.4936             66900.0  \n",
              "1      1129.0       463.0         1.8200             80100.0  \n",
              "2       333.0       117.0         1.6509             85700.0  \n",
              "3       515.0       226.0         3.1917             73400.0  \n",
              "4       624.0       262.0         1.9250             65500.0  "
            ],
            "text/html": [
              "\n",
              "  <div id=\"df-35166ace-7c35-4fe3-a4d8-c180b450b757\">\n",
              "    <div class=\"colab-df-container\">\n",
              "      <div>\n",
              "<style scoped>\n",
              "    .dataframe tbody tr th:only-of-type {\n",
              "        vertical-align: middle;\n",
              "    }\n",
              "\n",
              "    .dataframe tbody tr th {\n",
              "        vertical-align: top;\n",
              "    }\n",
              "\n",
              "    .dataframe thead th {\n",
              "        text-align: right;\n",
              "    }\n",
              "</style>\n",
              "<table border=\"1\" class=\"dataframe\">\n",
              "  <thead>\n",
              "    <tr style=\"text-align: right;\">\n",
              "      <th></th>\n",
              "      <th>longitude</th>\n",
              "      <th>latitude</th>\n",
              "      <th>housing_median_age</th>\n",
              "      <th>total_rooms</th>\n",
              "      <th>total_bedrooms</th>\n",
              "      <th>population</th>\n",
              "      <th>households</th>\n",
              "      <th>median_income</th>\n",
              "      <th>median_house_value</th>\n",
              "    </tr>\n",
              "  </thead>\n",
              "  <tbody>\n",
              "    <tr>\n",
              "      <th>0</th>\n",
              "      <td>-114.31</td>\n",
              "      <td>34.19</td>\n",
              "      <td>15.0</td>\n",
              "      <td>5612.0</td>\n",
              "      <td>1283.0</td>\n",
              "      <td>1015.0</td>\n",
              "      <td>472.0</td>\n",
              "      <td>1.4936</td>\n",
              "      <td>66900.0</td>\n",
              "    </tr>\n",
              "    <tr>\n",
              "      <th>1</th>\n",
              "      <td>-114.47</td>\n",
              "      <td>34.40</td>\n",
              "      <td>19.0</td>\n",
              "      <td>7650.0</td>\n",
              "      <td>1901.0</td>\n",
              "      <td>1129.0</td>\n",
              "      <td>463.0</td>\n",
              "      <td>1.8200</td>\n",
              "      <td>80100.0</td>\n",
              "    </tr>\n",
              "    <tr>\n",
              "      <th>2</th>\n",
              "      <td>-114.56</td>\n",
              "      <td>33.69</td>\n",
              "      <td>17.0</td>\n",
              "      <td>720.0</td>\n",
              "      <td>174.0</td>\n",
              "      <td>333.0</td>\n",
              "      <td>117.0</td>\n",
              "      <td>1.6509</td>\n",
              "      <td>85700.0</td>\n",
              "    </tr>\n",
              "    <tr>\n",
              "      <th>3</th>\n",
              "      <td>-114.57</td>\n",
              "      <td>33.64</td>\n",
              "      <td>14.0</td>\n",
              "      <td>1501.0</td>\n",
              "      <td>337.0</td>\n",
              "      <td>515.0</td>\n",
              "      <td>226.0</td>\n",
              "      <td>3.1917</td>\n",
              "      <td>73400.0</td>\n",
              "    </tr>\n",
              "    <tr>\n",
              "      <th>4</th>\n",
              "      <td>-114.57</td>\n",
              "      <td>33.57</td>\n",
              "      <td>20.0</td>\n",
              "      <td>1454.0</td>\n",
              "      <td>326.0</td>\n",
              "      <td>624.0</td>\n",
              "      <td>262.0</td>\n",
              "      <td>1.9250</td>\n",
              "      <td>65500.0</td>\n",
              "    </tr>\n",
              "  </tbody>\n",
              "</table>\n",
              "</div>\n",
              "      <button class=\"colab-df-convert\" onclick=\"convertToInteractive('df-35166ace-7c35-4fe3-a4d8-c180b450b757')\"\n",
              "              title=\"Convert this dataframe to an interactive table.\"\n",
              "              style=\"display:none;\">\n",
              "        \n",
              "  <svg xmlns=\"http://www.w3.org/2000/svg\" height=\"24px\"viewBox=\"0 0 24 24\"\n",
              "       width=\"24px\">\n",
              "    <path d=\"M0 0h24v24H0V0z\" fill=\"none\"/>\n",
              "    <path d=\"M18.56 5.44l.94 2.06.94-2.06 2.06-.94-2.06-.94-.94-2.06-.94 2.06-2.06.94zm-11 1L8.5 8.5l.94-2.06 2.06-.94-2.06-.94L8.5 2.5l-.94 2.06-2.06.94zm10 10l.94 2.06.94-2.06 2.06-.94-2.06-.94-.94-2.06-.94 2.06-2.06.94z\"/><path d=\"M17.41 7.96l-1.37-1.37c-.4-.4-.92-.59-1.43-.59-.52 0-1.04.2-1.43.59L10.3 9.45l-7.72 7.72c-.78.78-.78 2.05 0 2.83L4 21.41c.39.39.9.59 1.41.59.51 0 1.02-.2 1.41-.59l7.78-7.78 2.81-2.81c.8-.78.8-2.07 0-2.86zM5.41 20L4 18.59l7.72-7.72 1.47 1.35L5.41 20z\"/>\n",
              "  </svg>\n",
              "      </button>\n",
              "      \n",
              "  <style>\n",
              "    .colab-df-container {\n",
              "      display:flex;\n",
              "      flex-wrap:wrap;\n",
              "      gap: 12px;\n",
              "    }\n",
              "\n",
              "    .colab-df-convert {\n",
              "      background-color: #E8F0FE;\n",
              "      border: none;\n",
              "      border-radius: 50%;\n",
              "      cursor: pointer;\n",
              "      display: none;\n",
              "      fill: #1967D2;\n",
              "      height: 32px;\n",
              "      padding: 0 0 0 0;\n",
              "      width: 32px;\n",
              "    }\n",
              "\n",
              "    .colab-df-convert:hover {\n",
              "      background-color: #E2EBFA;\n",
              "      box-shadow: 0px 1px 2px rgba(60, 64, 67, 0.3), 0px 1px 3px 1px rgba(60, 64, 67, 0.15);\n",
              "      fill: #174EA6;\n",
              "    }\n",
              "\n",
              "    [theme=dark] .colab-df-convert {\n",
              "      background-color: #3B4455;\n",
              "      fill: #D2E3FC;\n",
              "    }\n",
              "\n",
              "    [theme=dark] .colab-df-convert:hover {\n",
              "      background-color: #434B5C;\n",
              "      box-shadow: 0px 1px 3px 1px rgba(0, 0, 0, 0.15);\n",
              "      filter: drop-shadow(0px 1px 2px rgba(0, 0, 0, 0.3));\n",
              "      fill: #FFFFFF;\n",
              "    }\n",
              "  </style>\n",
              "\n",
              "      <script>\n",
              "        const buttonEl =\n",
              "          document.querySelector('#df-35166ace-7c35-4fe3-a4d8-c180b450b757 button.colab-df-convert');\n",
              "        buttonEl.style.display =\n",
              "          google.colab.kernel.accessAllowed ? 'block' : 'none';\n",
              "\n",
              "        async function convertToInteractive(key) {\n",
              "          const element = document.querySelector('#df-35166ace-7c35-4fe3-a4d8-c180b450b757');\n",
              "          const dataTable =\n",
              "            await google.colab.kernel.invokeFunction('convertToInteractive',\n",
              "                                                     [key], {});\n",
              "          if (!dataTable) return;\n",
              "\n",
              "          const docLinkHtml = 'Like what you see? Visit the ' +\n",
              "            '<a target=\"_blank\" href=https://colab.research.google.com/notebooks/data_table.ipynb>data table notebook</a>'\n",
              "            + ' to learn more about interactive tables.';\n",
              "          element.innerHTML = '';\n",
              "          dataTable['output_type'] = 'display_data';\n",
              "          await google.colab.output.renderOutput(dataTable, element);\n",
              "          const docLink = document.createElement('div');\n",
              "          docLink.innerHTML = docLinkHtml;\n",
              "          element.appendChild(docLink);\n",
              "        }\n",
              "      </script>\n",
              "    </div>\n",
              "  </div>\n",
              "  "
            ]
          },
          "metadata": {},
          "execution_count": 4
        }
      ]
    },
    {
      "cell_type": "markdown",
      "source": [
        "De cualquier de las ligas dadas anteriormente, sabemos que la variable de salida es el precio medio (mediana) de la casa en dólares estadounidenses, \"median_house_value\"."
      ],
      "metadata": {
        "id": "kkhimNeSexJZ"
      }
    },
    {
      "cell_type": "code",
      "metadata": {
        "id": "ygtqfXrjs_IG",
        "colab": {
          "base_uri": "https://localhost:8080/"
        },
        "outputId": "940362c4-d45a-49c2-edbb-9b5cecab5a11"
      },
      "source": [
        "data.info()"
      ],
      "execution_count": 5,
      "outputs": [
        {
          "output_type": "stream",
          "name": "stdout",
          "text": [
            "<class 'pandas.core.frame.DataFrame'>\n",
            "RangeIndex: 17000 entries, 0 to 16999\n",
            "Data columns (total 9 columns):\n",
            " #   Column              Non-Null Count  Dtype  \n",
            "---  ------              --------------  -----  \n",
            " 0   longitude           17000 non-null  float64\n",
            " 1   latitude            17000 non-null  float64\n",
            " 2   housing_median_age  17000 non-null  float64\n",
            " 3   total_rooms         17000 non-null  float64\n",
            " 4   total_bedrooms      17000 non-null  float64\n",
            " 5   population          17000 non-null  float64\n",
            " 6   households          17000 non-null  float64\n",
            " 7   median_income       17000 non-null  float64\n",
            " 8   median_house_value  17000 non-null  float64\n",
            "dtypes: float64(9)\n",
            "memory usage: 1.2 MB\n"
          ]
        }
      ]
    },
    {
      "cell_type": "code",
      "source": [
        "sns.set(rc={'figure.figsize':(12,10)})   # (ancho-columnas, altura-renglones) Ajustemos el tamaño de la ventana \n",
        "                                         # que desplegará los gráficos usando la librería de seaborn (sns)."
      ],
      "metadata": {
        "id": "xnaIL0diAHMr"
      },
      "execution_count": 6,
      "outputs": []
    },
    {
      "cell_type": "code",
      "source": [
        "fig, axes = plt.subplots(3, 3)    # definimos una ventana de 3x3 nichos para incluir en cada uno de ellos un gráfico.\n",
        "for k in range(0,9):\n",
        "  plt.subplot(3,3,k+1)     # los nichos para cada histograma se numeran iniciando en 1 y no en 0.\n",
        "  plt.hist(data[data.columns[k]], bins=20)     # datatrain.columns nos devuelve una lista con los nombres de las columnas.\n",
        "  plt.xlabel(data.columns[k])\n",
        "plt.show()"
      ],
      "metadata": {
        "colab": {
          "base_uri": "https://localhost:8080/",
          "height": 611
        },
        "id": "XW3S8kW_qccK",
        "outputId": "cd3fbbdd-d141-4611-b30a-ac9492091c7d"
      },
      "execution_count": 7,
      "outputs": [
        {
          "output_type": "display_data",
          "data": {
            "text/plain": [
              "<Figure size 864x720 with 9 Axes>"
            ],
            "image/png": "[encoded data removed]"
          },
          "metadata": {}
        }
      ]
    },
    {
      "cell_type": "code",
      "source": [
        "data.describe()"
      ],
      "metadata": {
        "colab": {
          "base_uri": "https://localhost:8080/",
          "height": 300
        },
        "id": "qrlfby2lIfAv",
        "outputId": "a028688b-6117-47ba-e933-03e95e9671eb"
      },
      "execution_count": 8,
      "outputs": [
        {
          "output_type": "execute_result",
          "data": {
            "text/plain": [
              "          longitude      latitude  housing_median_age   total_rooms  \\\n",
              "count  17000.000000  17000.000000        17000.000000  17000.000000   \n",
              "mean    -119.562108     35.625225           28.589353   2643.664412   \n",
              "std        2.005166      2.137340           12.586937   2179.947071   \n",
              "min     -124.350000     32.540000            1.000000      2.000000   \n",
              "25%     -121.790000     33.930000           18.000000   1462.000000   \n",
              "50%     -118.490000     34.250000           29.000000   2127.000000   \n",
              "75%     -118.000000     37.720000           37.000000   3151.250000   \n",
              "max     -114.310000     41.950000           52.000000  37937.000000   \n",
              "\n",
              "       total_bedrooms    population    households  median_income  \\\n",
              "count    17000.000000  17000.000000  17000.000000   17000.000000   \n",
              "mean       539.410824   1429.573941    501.221941       3.883578   \n",
              "std        421.499452   1147.852959    384.520841       1.908157   \n",
              "min          1.000000      3.000000      1.000000       0.499900   \n",
              "25%        297.000000    790.000000    282.000000       2.566375   \n",
              "50%        434.000000   1167.000000    409.000000       3.544600   \n",
              "75%        648.250000   1721.000000    605.250000       4.767000   \n",
              "max       6445.000000  35682.000000   6082.000000      15.000100   \n",
              "\n",
              "       median_house_value  \n",
              "count        17000.000000  \n",
              "mean        207300.912353  \n",
              "std         115983.764387  \n",
              "min          14999.000000  \n",
              "25%         119400.000000  \n",
              "50%         180400.000000  \n",
              "75%         265000.000000  \n",
              "max         500001.000000  "
            ],
            "text/html": [
              "\n",
              "  <div id=\"df-92418ac1-128c-4182-a78b-ea15c9e595c1\">\n",
              "    <div class=\"colab-df-container\">\n",
              "      <div>\n",
              "<style scoped>\n",
              "    .dataframe tbody tr th:only-of-type {\n",
              "        vertical-align: middle;\n",
              "    }\n",
              "\n",
              "    .dataframe tbody tr th {\n",
              "        vertical-align: top;\n",
              "    }\n",
              "\n",
              "    .dataframe thead th {\n",
              "        text-align: right;\n",
              "    }\n",
              "</style>\n",
              "<table border=\"1\" class=\"dataframe\">\n",
              "  <thead>\n",
              "    <tr style=\"text-align: right;\">\n",
              "      <th></th>\n",
              "      <th>longitude</th>\n",
              "      <th>latitude</th>\n",
              "      <th>housing_median_age</th>\n",
              "      <th>total_rooms</th>\n",
              "      <th>total_bedrooms</th>\n",
              "      <th>population</th>\n",
              "      <th>households</th>\n",
              "      <th>median_income</th>\n",
              "      <th>median_house_value</th>\n",
              "    </tr>\n",
              "  </thead>\n",
              "  <tbody>\n",
              "    <tr>\n",
              "      <th>count</th>\n",
              "      <td>17000.000000</td>\n",
              "      <td>17000.000000</td>\n",
              "      <td>17000.000000</td>\n",
              "      <td>17000.000000</td>\n",
              "      <td>17000.000000</td>\n",
              "      <td>17000.000000</td>\n",
              "      <td>17000.000000</td>\n",
              "      <td>17000.000000</td>\n",
              "      <td>17000.000000</td>\n",
              "    </tr>\n",
              "    <tr>\n",
              "      <th>mean</th>\n",
              "      <td>-119.562108</td>\n",
              "      <td>35.625225</td>\n",
              "      <td>28.589353</td>\n",
              "      <td>2643.664412</td>\n",
              "      <td>539.410824</td>\n",
              "      <td>1429.573941</td>\n",
              "      <td>501.221941</td>\n",
              "      <td>3.883578</td>\n",
              "      <td>207300.912353</td>\n",
              "    </tr>\n",
              "    <tr>\n",
              "      <th>std</th>\n",
              "      <td>2.005166</td>\n",
              "      <td>2.137340</td>\n",
              "      <td>12.586937</td>\n",
              "      <td>2179.947071</td>\n",
              "      <td>421.499452</td>\n",
              "      <td>1147.852959</td>\n",
              "      <td>384.520841</td>\n",
              "      <td>1.908157</td>\n",
              "      <td>115983.764387</td>\n",
              "    </tr>\n",
              "    <tr>\n",
              "      <th>min</th>\n",
              "      <td>-124.350000</td>\n",
              "      <td>32.540000</td>\n",
              "      <td>1.000000</td>\n",
              "      <td>2.000000</td>\n",
              "      <td>1.000000</td>\n",
              "      <td>3.000000</td>\n",
              "      <td>1.000000</td>\n",
              "      <td>0.499900</td>\n",
              "      <td>14999.000000</td>\n",
              "    </tr>\n",
              "    <tr>\n",
              "      <th>25%</th>\n",
              "      <td>-121.790000</td>\n",
              "      <td>33.930000</td>\n",
              "      <td>18.000000</td>\n",
              "      <td>1462.000000</td>\n",
              "      <td>297.000000</td>\n",
              "      <td>790.000000</td>\n",
              "      <td>282.000000</td>\n",
              "      <td>2.566375</td>\n",
              "      <td>119400.000000</td>\n",
              "    </tr>\n",
              "    <tr>\n",
              "      <th>50%</th>\n",
              "      <td>-118.490000</td>\n",
              "      <td>34.250000</td>\n",
              "      <td>29.000000</td>\n",
              "      <td>2127.000000</td>\n",
              "      <td>434.000000</td>\n",
              "      <td>1167.000000</td>\n",
              "      <td>409.000000</td>\n",
              "      <td>3.544600</td>\n",
              "      <td>180400.000000</td>\n",
              "    </tr>\n",
              "    <tr>\n",
              "      <th>75%</th>\n",
              "      <td>-118.000000</td>\n",
              "      <td>37.720000</td>\n",
              "      <td>37.000000</td>\n",
              "      <td>3151.250000</td>\n",
              "      <td>648.250000</td>\n",
              "      <td>1721.000000</td>\n",
              "      <td>605.250000</td>\n",
              "      <td>4.767000</td>\n",
              "      <td>265000.000000</td>\n",
              "    </tr>\n",
              "    <tr>\n",
              "      <th>max</th>\n",
              "      <td>-114.310000</td>\n",
              "      <td>41.950000</td>\n",
              "      <td>52.000000</td>\n",
              "      <td>37937.000000</td>\n",
              "      <td>6445.000000</td>\n",
              "      <td>35682.000000</td>\n",
              "      <td>6082.000000</td>\n",
              "      <td>15.000100</td>\n",
              "      <td>500001.000000</td>\n",
              "    </tr>\n",
              "  </tbody>\n",
              "</table>\n",
              "</div>\n",
              "      <button class=\"colab-df-convert\" onclick=\"convertToInteractive('df-92418ac1-128c-4182-a78b-ea15c9e595c1')\"\n",
              "              title=\"Convert this dataframe to an interactive table.\"\n",
              "              style=\"display:none;\">\n",
              "        \n",
              "  <svg xmlns=\"http://www.w3.org/2000/svg\" height=\"24px\"viewBox=\"0 0 24 24\"\n",
              "       width=\"24px\">\n",
              "    <path d=\"M0 0h24v24H0V0z\" fill=\"none\"/>\n",
              "    <path d=\"M18.56 5.44l.94 2.06.94-2.06 2.06-.94-2.06-.94-.94-2.06-.94 2.06-2.06.94zm-11 1L8.5 8.5l.94-2.06 2.06-.94-2.06-.94L8.5 2.5l-.94 2.06-2.06.94zm10 10l.94 2.06.94-2.06 2.06-.94-2.06-.94-.94-2.06-.94 2.06-2.06.94z\"/><path d=\"M17.41 7.96l-1.37-1.37c-.4-.4-.92-.59-1.43-.59-.52 0-1.04.2-1.43.59L10.3 9.45l-7.72 7.72c-.78.78-.78 2.05 0 2.83L4 21.41c.39.39.9.59 1.41.59.51 0 1.02-.2 1.41-.59l7.78-7.78 2.81-2.81c.8-.78.8-2.07 0-2.86zM5.41 20L4 18.59l7.72-7.72 1.47 1.35L5.41 20z\"/>\n",
              "  </svg>\n",
              "      </button>\n",
              "      \n",
              "  <style>\n",
              "    .colab-df-container {\n",
              "      display:flex;\n",
              "      flex-wrap:wrap;\n",
              "      gap: 12px;\n",
              "    }\n",
              "\n",
              "    .colab-df-convert {\n",
              "      background-color: #E8F0FE;\n",
              "      border: none;\n",
              "      border-radius: 50%;\n",
              "      cursor: pointer;\n",
              "      display: none;\n",
              "      fill: #1967D2;\n",
              "      height: 32px;\n",
              "      padding: 0 0 0 0;\n",
              "      width: 32px;\n",
              "    }\n",
              "\n",
              "    .colab-df-convert:hover {\n",
              "      background-color: #E2EBFA;\n",
              "      box-shadow: 0px 1px 2px rgba(60, 64, 67, 0.3), 0px 1px 3px 1px rgba(60, 64, 67, 0.15);\n",
              "      fill: #174EA6;\n",
              "    }\n",
              "\n",
              "    [theme=dark] .colab-df-convert {\n",
              "      background-color: #3B4455;\n",
              "      fill: #D2E3FC;\n",
              "    }\n",
              "\n",
              "    [theme=dark] .colab-df-convert:hover {\n",
              "      background-color: #434B5C;\n",
              "      box-shadow: 0px 1px 3px 1px rgba(0, 0, 0, 0.15);\n",
              "      filter: drop-shadow(0px 1px 2px rgba(0, 0, 0, 0.3));\n",
              "      fill: #FFFFFF;\n",
              "    }\n",
              "  </style>\n",
              "\n",
              "      <script>\n",
              "        const buttonEl =\n",
              "          document.querySelector('#df-92418ac1-128c-4182-a78b-ea15c9e595c1 button.colab-df-convert');\n",
              "        buttonEl.style.display =\n",
              "          google.colab.kernel.accessAllowed ? 'block' : 'none';\n",
              "\n",
              "        async function convertToInteractive(key) {\n",
              "          const element = document.querySelector('#df-92418ac1-128c-4182-a78b-ea15c9e595c1');\n",
              "          const dataTable =\n",
              "            await google.colab.kernel.invokeFunction('convertToInteractive',\n",
              "                                                     [key], {});\n",
              "          if (!dataTable) return;\n",
              "\n",
              "          const docLinkHtml = 'Like what you see? Visit the ' +\n",
              "            '<a target=\"_blank\" href=https://colab.research.google.com/notebooks/data_table.ipynb>data table notebook</a>'\n",
              "            + ' to learn more about interactive tables.';\n",
              "          element.innerHTML = '';\n",
              "          dataTable['output_type'] = 'display_data';\n",
              "          await google.colab.output.renderOutput(dataTable, element);\n",
              "          const docLink = document.createElement('div');\n",
              "          docLink.innerHTML = docLinkHtml;\n",
              "          element.appendChild(docLink);\n",
              "        }\n",
              "      </script>\n",
              "    </div>\n",
              "  </div>\n",
              "  "
            ]
          },
          "metadata": {},
          "execution_count": 8
        }
      ]
    },
    {
      "cell_type": "markdown",
      "source": [
        "\n",
        "Puedes nuevamente observar de esta tabla varias de las características que mencionamos previamente a partir de los histogramas."
      ],
      "metadata": {
        "id": "0BelKUNL3xtz"
      }
    },
    {
      "cell_type": "code",
      "source": [
        "X1 =data[['total_bedrooms']]\n",
        "yy = data[['median_house_value']]"
      ],
      "metadata": {
        "id": "0r7lF8FUKAZ4"
      },
      "execution_count": 9,
      "outputs": []
    },
    {
      "cell_type": "code",
      "source": [
        "sns.set(rc={'figure.figsize':(6,4)})"
      ],
      "metadata": {
        "id": "Rajq4vWoKuww"
      },
      "execution_count": 10,
      "outputs": []
    },
    {
      "cell_type": "code",
      "source": [
        "X1.hist();"
      ],
      "metadata": {
        "colab": {
          "base_uri": "https://localhost:8080/",
          "height": 284
        },
        "id": "a7hdtS_viWuo",
        "outputId": "092480dd-2f5a-4fc9-e76d-700b71026c1d"
      },
      "execution_count": 30,
      "outputs": [
        {
          "output_type": "display_data",
          "data": {
            "text/plain": [
              "<Figure size 432x288 with 1 Axes>"
            ],
            "image/png": "[encoded data removed]"
          },
          "metadata": {}
        }
      ]
    },
    {
      "cell_type": "code",
      "source": [
        "np.sqrt(X1).hist();"
      ],
      "metadata": {
        "colab": {
          "base_uri": "https://localhost:8080/",
          "height": 284
        },
        "id": "Do3IFv9YKjO3",
        "outputId": "2ea4708e-425e-46ae-85d4-bc8999c6ec2a"
      },
      "execution_count": 28,
      "outputs": [
        {
          "output_type": "display_data",
          "data": {
            "text/plain": [
              "<Figure size 432x288 with 1 Axes>"
            ],
            "image/png": "[encoded data removed]"
          },
          "metadata": {}
        }
      ]
    },
    {
      "cell_type": "markdown",
      "source": [
        "#**Modelo-1**"
      ],
      "metadata": {
        "id": "rNCF_CU4L0hu"
      }
    },
    {
      "cell_type": "code",
      "source": [
        "m = LinearRegression()\n",
        "\n",
        "fit1 = m.fit(X1, yy)\n",
        "\n",
        "preds1 = fit1.predict(X1)\n",
        "\n",
        "preds1 = np.sqrt(mean_squared_error(yy, preds1))\n",
        "\n",
        "print(\"RMSE: %.2f\" % (preds1))"
      ],
      "metadata": {
        "colab": {
          "base_uri": "https://localhost:8080/"
        },
        "id": "m5pSWXvvLMOG",
        "outputId": "8ac9954f-e3cf-4f53-b1a2-2f36b9d4e5a2"
      },
      "execution_count": 12,
      "outputs": [
        {
          "output_type": "stream",
          "name": "stdout",
          "text": [
            "RMSE: 115858.74\n"
          ]
        }
      ]
    },
    {
      "cell_type": "markdown",
      "source": [
        "No considera la particióin Train/Val/Test"
      ],
      "metadata": {
        "id": "pDcifELRc3oi"
      }
    },
    {
      "cell_type": "code",
      "source": [
        "X1.shape"
      ],
      "metadata": {
        "colab": {
          "base_uri": "https://localhost:8080/"
        },
        "id": "tWXSetIncriC",
        "outputId": "f27f3d18-560c-4cd7-8e1e-4ef9035d5816"
      },
      "execution_count": 29,
      "outputs": [
        {
          "output_type": "execute_result",
          "data": {
            "text/plain": [
              "(17000, 1)"
            ]
          },
          "metadata": {},
          "execution_count": 29
        }
      ]
    },
    {
      "cell_type": "markdown",
      "source": [
        "###**¿Cuál es el error de diseño de este modelo, en caso de que exista, de acuerdo a la metodología de aprendizaje automático (machine learning)?**"
      ],
      "metadata": {
        "id": "U5hPi9VuMxVT"
      }
    },
    {
      "cell_type": "markdown",
      "source": [
        "#**Modelo-2**"
      ],
      "metadata": {
        "id": "qJhF1U1iMtl2"
      }
    },
    {
      "cell_type": "code",
      "source": [
        "m = LinearRegression()\n",
        "\n",
        "X2 = np.sqrt(X1)\n",
        "\n",
        "fit2 = m.fit(X2, yy)\n",
        "\n",
        "preds2 = fit2.predict(X2)\n",
        "\n",
        "preds2 = np.sqrt(mean_squared_error(yy, preds2))\n",
        "\n",
        "print(\"RMSE: %.2f\" % (preds2))"
      ],
      "metadata": {
        "colab": {
          "base_uri": "https://localhost:8080/"
        },
        "id": "PWihUn1BLMLg",
        "outputId": "9db93021-6d81-4bf9-e73c-6184ab82c105"
      },
      "execution_count": 13,
      "outputs": [
        {
          "output_type": "stream",
          "name": "stdout",
          "text": [
            "RMSE: 115824.92\n"
          ]
        }
      ]
    },
    {
      "cell_type": "markdown",
      "source": [
        "###**¿Cuál es el error de diseño de este modelo, en caso de que exista, de acuerdo a la metodología de aprendizaje automático (machine learning)?**"
      ],
      "metadata": {
        "id": "OUEuJYd6OJ9m"
      }
    },
    {
      "cell_type": "markdown",
      "source": [
        "#**Modelo-3**"
      ],
      "metadata": {
        "id": "x6iOJXktOLy6"
      }
    },
    {
      "cell_type": "code",
      "source": [
        "semilla = 11\n",
        "val_size = 0.2"
      ],
      "metadata": {
        "id": "FjFTtCo4yYYW"
      },
      "execution_count": 14,
      "outputs": []
    },
    {
      "cell_type": "code",
      "source": [
        "X_train.hist();"
      ],
      "metadata": {
        "colab": {
          "base_uri": "https://localhost:8080/",
          "height": 284
        },
        "id": "3nnzlIzIjS6c",
        "outputId": "e79fe678-b80f-46e9-cfe5-7a30e10842ee"
      },
      "execution_count": 31,
      "outputs": [
        {
          "output_type": "display_data",
          "data": {
            "text/plain": [
              "<Figure size 432x288 with 1 Axes>"
            ],
            "image/png": "[encoded data removed]"
          },
          "metadata": {}
        }
      ]
    },
    {
      "cell_type": "code",
      "source": [
        "np.sqrt(X_train).hist();"
      ],
      "metadata": {
        "colab": {
          "base_uri": "https://localhost:8080/",
          "height": 284
        },
        "id": "AzjqJsxyjc_i",
        "outputId": "6ea56958-b127-4226-969b-eb2dc76127b4"
      },
      "execution_count": 32,
      "outputs": [
        {
          "output_type": "display_data",
          "data": {
            "text/plain": [
              "<Figure size 432x288 with 1 Axes>"
            ],
            "image/png": "[encoded data removed]"
          },
          "metadata": {}
        }
      ]
    },
    {
      "cell_type": "code",
      "source": [
        "X2 = np.sqrt(X1)    xxxxxxxxx\n",
        "\n",
        "X_train, X_val, y_train, y_val = train_test_split(X2, yy, test_size=val_size, random_state=semilla)\n",
        "\n",
        "\n",
        "\n",
        "m = LinearRegression()\n",
        "\n",
        "fit3 = m.fit(X_train, y_train)\n",
        "\n",
        "preds3 = fit3.predict(X_val)\n",
        "\n",
        "preds3 = np.sqrt(mean_squared_error(y_val, preds3))\n",
        "\n",
        "print(\"RMSE: %.2f\" % (preds3))"
      ],
      "metadata": {
        "colab": {
          "base_uri": "https://localhost:8080/"
        },
        "id": "9XdQf-ouMT0z",
        "outputId": "e6dcc6ed-7480-4753-9ea1-c727130e466b"
      },
      "execution_count": 15,
      "outputs": [
        {
          "output_type": "stream",
          "name": "stdout",
          "text": [
            "RMSE: 114709.53\n"
          ]
        }
      ]
    },
    {
      "cell_type": "markdown",
      "source": [
        "###**¿Cuál es el error de diseño de este modelo, en caso de que exista, de acuerdo a la metodología de aprendizaje automático (machine learning)?**"
      ],
      "metadata": {
        "id": "vajHCpRzPySk"
      }
    },
    {
      "cell_type": "markdown",
      "source": [
        "###NOTA: Observa que al particionar el conjunto original de train en 80% y 20%, ya tenemos ahora el conjunto de entrenamiento y el de validación. El archivo restante que se encuentra en la carpeta del Google-Colab, llamado \"california_housing_test.csv\", será el conjunto de prueba, completando lo tres conjuntos con los cuales estaremos trabajando."
      ],
      "metadata": {
        "id": "50J4WlbvecCF"
      }
    },
    {
      "cell_type": "markdown",
      "source": [
        "#**Modelo-4**"
      ],
      "metadata": {
        "id": "IZqnyHmjPsC_"
      }
    },
    {
      "cell_type": "code",
      "source": [
        "X_train, X_val, y_train, y_val = train_test_split(X1, yy, test_size=val_size, random_state=semilla)\n",
        "\n",
        "X4_train = np.sqrt(X_train)   # siempre y cuando la decisión de sacar la raíz se tomó con el conjunto X_train solamente\n",
        "\n",
        "X4_val = np.sqrt(X_val)\n",
        "\n",
        "\n",
        "m = LinearRegression()\n",
        "\n",
        "fit4 = m.fit(X4_train, y_train)\n",
        "\n",
        "preds4 = fit4.predict(X4_val)\n",
        "\n",
        "preds4 = np.sqrt(mean_squared_error(y_val, preds4))\n",
        "\n",
        "print(\"RMSE: %.2f\" % (preds4))"
      ],
      "metadata": {
        "colab": {
          "base_uri": "https://localhost:8080/"
        },
        "id": "ucDMyuwZMTxq",
        "outputId": "b0700b51-d0f2-4226-f76d-b391856ce47e"
      },
      "execution_count": 16,
      "outputs": [
        {
          "output_type": "stream",
          "name": "stdout",
          "text": [
            "RMSE: 114709.53\n"
          ]
        }
      ]
    },
    {
      "cell_type": "markdown",
      "source": [
        "###**¿Cuál es el error de diseño de este modelo, en caso de que exista, de acuerdo a la metodología de aprendizaje automático (machine learning)?**"
      ],
      "metadata": {
        "id": "aS9n2CYiQtGm"
      }
    },
    {
      "cell_type": "markdown",
      "source": [
        "#**Modelo-5**"
      ],
      "metadata": {
        "id": "Nke9Awnlgj4r"
      }
    },
    {
      "cell_type": "code",
      "source": [
        "# Supongamos que también deseamos escalar los datos mediante la transformación (x-miu)/std\n",
        "\n",
        "from sklearn.preprocessing import StandardScaler"
      ],
      "metadata": {
        "id": "yZZPxLYroILT"
      },
      "execution_count": 17,
      "outputs": []
    },
    {
      "cell_type": "code",
      "source": [
        "X_train, X_val, y_train, y_val = train_test_split(X1, yy, test_size=.2, random_state=semilla)\n",
        "\n",
        " #### Pre-procesamiento ....\n",
        "X5_train = np.sqrt(X_train)\n",
        "\n",
        "X5_train = (X5_train - np.mean(X5_train)) / np.std(X5_train)\n",
        "\n",
        "X5_val = np.sqrt(X_val)\n",
        "#X5_val = (X5_val - np.mean(X5_val)) / np.std(X5_val)     xxxxxxxxx\n",
        "X5_val = (X5_val - np.mean(X5_train)) / np.std(X5_train)  \n",
        "\n",
        "# termina el preprocesamiento ....\n",
        "\n",
        "# Ahora sí entrenamos el modelo:\n",
        "\n",
        "m = LinearRegression()\n",
        "\n",
        "fit5 = m.fit(X5_train, y_train)\n",
        "\n",
        "preds5 = fit5.predict(X5_val)\n",
        "\n",
        "preds5 = np.sqrt(mean_squared_error(y_val, preds5))\n",
        "\n",
        "print(\"RMSE: %.2f\" % (preds5))"
      ],
      "metadata": {
        "id": "C1AVr9OeoIIM",
        "colab": {
          "base_uri": "https://localhost:8080/"
        },
        "outputId": "26176dae-b248-4817-8bc0-1bd38cc01137"
      },
      "execution_count": 36,
      "outputs": [
        {
          "output_type": "stream",
          "name": "stdout",
          "text": [
            "RMSE: 177523.31\n"
          ]
        }
      ]
    },
    {
      "cell_type": "markdown",
      "source": [
        "###**¿Cuál es el error de diseño de este modelo, en caso de que exista, de acuerdo a la metodología de aprendizaje automático (machine learning)?**"
      ],
      "metadata": {
        "id": "V70j-Sogi1GF"
      }
    },
    {
      "cell_type": "markdown",
      "source": [
        "#**Modelo-6: Usando Pipelines para evitar el filtrado de información (data leakage)**\n",
        "\n",
        "\n"
      ],
      "metadata": {
        "id": "h0k2RjCVj9RZ"
      }
    },
    {
      "cell_type": "markdown",
      "source": [
        "###Veamos a continuación la manera correcta de llevar a cabo las transformaciones mediante el uso de la clase Pipeline de scikit-learn. La clase Pipeline nos permitirá encapsular una serie de transformaciones para llevar a cabo el entrenamiento de un modelo, apoyando a evitar el filtrado de información."
      ],
      "metadata": {
        "id": "RUtu4mVOpAYA"
      }
    },
    {
      "cell_type": "code",
      "source": [
        "from sklearn.pipeline import Pipeline\n",
        "from sklearn.compose import ColumnTransformer\n",
        "from sklearn.impute import SimpleImputer\n",
        "from sklearn.preprocessing import FunctionTransformer   \n",
        "from sklearn.preprocessing import StandardScaler"
      ],
      "metadata": {
        "id": "WOZlsPCYoICx"
      },
      "execution_count": 19,
      "outputs": []
    },
    {
      "cell_type": "code",
      "source": [
        "X_train, X_val, y_train, y_val = train_test_split(X1, yy, test_size=val_size, random_state=semilla)\n",
        "\n",
        "# Transformaciones a factores numéricos de entrada:\n",
        "num_pipeline = Pipeline(steps = [('impMediana', SimpleImputer(strategy='median')),\n",
        "                                 ('sqrt', FunctionTransformer(np.sqrt)),                                 \n",
        "                                 ('escalaNum', StandardScaler())])   \n",
        "\n",
        "num_pipeline_nombres = ['total_bedrooms']\n",
        "\n",
        "\n",
        "# Aplicamos dichas transformaciones a las variables indicadas y el resto las dejamos igual:\n",
        "columnasTransformer = ColumnTransformer(transformers = [('vars_num_pipeline', num_pipeline, num_pipeline_nombres)\n",
        "                                                        ],\n",
        "                                        remainder='passthrough')\n",
        "\n",
        "\n",
        "m = LinearRegression()\n",
        "\n",
        "# Aplicamos las transformaciones al conjunto de entrenamiento:\n",
        "XtrainFit = columnasTransformer.fit(X_train)   # Generamos la información necesaria con el conjunto de entrenamiento\n",
        "                                               # para evitar el filtrado de información.\n",
        "\n",
        "XtrainTransf = XtrainFit.transform(X_train)    # y ahora aplicamos dichas transformaciones al conjunto de entrenamiento,\n",
        "XvalTransf  =  XtrainFit.transform(X_val)      # y también al conjunto de validación (con la información de los datos de Train).\n",
        "\n",
        "\n",
        "fit6 = m.fit(XtrainTransf, y_train)\n",
        "\n",
        "preds6 = fit6.predict(XvalTransf)\n",
        "\n",
        "preds6 = np.sqrt(mean_squared_error(y_val, preds6))\n",
        "\n",
        "print(\"RMSE: %.2f\" % (preds6))"
      ],
      "metadata": {
        "id": "QrZ-wgwroH_m",
        "colab": {
          "base_uri": "https://localhost:8080/"
        },
        "outputId": "410118db-ed3e-4f66-cc5f-d383f3587b1a"
      },
      "execution_count": 20,
      "outputs": [
        {
          "output_type": "stream",
          "name": "stdout",
          "text": [
            "RMSE: 114709.53\n"
          ]
        }
      ]
    },
    {
      "cell_type": "markdown",
      "source": [
        "#**Curvas de Aprendizaje**"
      ],
      "metadata": {
        "id": "NuxSt-gU91AE"
      }
    },
    {
      "cell_type": "code",
      "source": [
        "from sklearn.model_selection import learning_curve\n",
        "\n",
        "from sklearn.model_selection import RepeatedKFold"
      ],
      "metadata": {
        "id": "R3RF0k8k2jun"
      },
      "execution_count": 21,
      "outputs": []
    },
    {
      "cell_type": "code",
      "source": [
        "modeloLC = LinearRegression()\n",
        "\n",
        "XtvTransf = XtrainFit.transform(X1)   # Como usaremos Cross-Validation, usamos el conjunto original de Train, X1 y sus valores reales yy.\n",
        "\n",
        "delta_train_sz = np.linspace(0.1, 1.0, 20)\n",
        "\n",
        "cvLC = RepeatedKFold(n_splits=10, n_repeats=5, random_state=semilla)\n",
        "\n",
        "train_sizes, train_scores, valid_scores = learning_curve(estimator=modeloLC, \n",
        "                                                        X=XtvTransf, \n",
        "                                                        y=yy,\n",
        "                                                        cv=cvLC, \n",
        "                                                        train_sizes=delta_train_sz,\n",
        "                                                        scoring='neg_root_mean_squared_error')\n",
        "\n",
        "\n",
        "\n",
        "# Obtengamos la gráfica de las curvas de aprendizaje \n",
        "# cuando se incrementa el tamaño de la muestra:\n",
        "\n",
        "train_mean = -np.mean(train_scores, axis=1)\n",
        "train_std = np.std(train_scores, axis=1)\n",
        "valid_mean = -np.mean(valid_scores, axis=1)\n",
        "valid_std = np.std(valid_scores, axis=1)\n",
        "\n",
        "plt.plot(train_sizes, train_mean, color='blue', marker='o', markersize=5, label='Training')\n",
        "plt.fill_between(train_sizes, train_mean + train_std, train_mean - train_std, alpha=0.15, color='blue')\n",
        "\n",
        "plt.plot(train_sizes, valid_mean, color='red', marker='o', markersize=5, label='Validation')\n",
        "plt.fill_between(train_sizes, valid_mean + valid_std, valid_mean - valid_std, alpha=0.15, color='red')\n",
        "\n",
        "plt.title('Función learning_curve()')\n",
        "plt.xlabel('Tamaño del conjunto de entrenamiento')\n",
        "plt.ylabel('RMSE')\n",
        "plt.grid()\n",
        "plt.legend(loc='lower right')\n",
        "plt.show()"
      ],
      "metadata": {
        "colab": {
          "base_uri": "https://localhost:8080/",
          "height": 301
        },
        "id": "WJggNLrS2uHD",
        "outputId": "f739df16-7e00-46dc-f439-aa6834a017f2"
      },
      "execution_count": 22,
      "outputs": [
        {
          "output_type": "display_data",
          "data": {
            "text/plain": [
              "<Figure size 432x288 with 1 Axes>"
            ],
            "image/png": "[encoded data removed]"
          },
          "metadata": {}
        }
      ]
    },
    {
      "cell_type": "markdown",
      "source": [
        "###NOTA: En el caso de scikit-learn, recuerda que calcula el valor negativo de RMSE.\n",
        "\n",
        "### Consulta la documentación correspondiente:\n",
        "\n",
        "https://scikit-learn.org/stable/modules/model_evaluation.html\n",
        "\n",
        "https://scikit-learn.org/stable/modules/generated/sklearn.metrics.mean_squared_error.html\n"
      ],
      "metadata": {
        "id": "rW6vmZoy_Jzh"
      }
    },
    {
      "cell_type": "markdown",
      "source": [
        "#**Modelo final con el conjunto de Prueba (Test)**"
      ],
      "metadata": {
        "id": "h52Mky9_pihG"
      }
    },
    {
      "cell_type": "code",
      "source": [
        "datatest = pd.read_csv(\"california_housing_test.csv\", sep=\",\")   # cargamos los datos de la carpeta del Google-Colab, observa que\n",
        "                                                                 # hasta este momento no se habían usado estos datos.\n",
        "datatest.shape"
      ],
      "metadata": {
        "colab": {
          "base_uri": "https://localhost:8080/"
        },
        "id": "1qZmU4nAmEKU",
        "outputId": "46bbd746-aaf1-4a54-d6e3-64b212ab514d"
      },
      "execution_count": 23,
      "outputs": [
        {
          "output_type": "execute_result",
          "data": {
            "text/plain": [
              "(3000, 9)"
            ]
          },
          "metadata": {},
          "execution_count": 23
        }
      ]
    },
    {
      "cell_type": "code",
      "source": [
        "Xtest =datatest[['total_bedrooms']]\n",
        "ytest = datatest[['median_house_value']]"
      ],
      "metadata": {
        "id": "f0Pte8hNp4fA"
      },
      "execution_count": 24,
      "outputs": []
    },
    {
      "cell_type": "code",
      "source": [
        "mf = LinearRegression()\n",
        "\n",
        "XtvTransf = XtrainFit.transform(X1)   # Observa que al obtener el entrenamiento final, usamos los datos tanto de Train como de Validation X1,\n",
        "                                      # esto permitirá todavía usar una mayor cantidad de información para aprender mejor. Sin embargo,\n",
        "                                      # seguimos usando la información solo del conjunto Train para evitar el filtrado de información.\n",
        "\n",
        "XtestTransf  =  XtrainFit.transform(Xtest)  \n",
        "\n",
        "fitf = mf.fit(XtvTransf, yy)\n",
        "\n",
        "predsf = fitf.predict(XtestTransf)\n",
        "predsf = np.sqrt(mean_squared_error(ytest, predsf))\n",
        "\n",
        "print(\"RMSE: %.2f\" % (predsf))"
      ],
      "metadata": {
        "colab": {
          "base_uri": "https://localhost:8080/"
        },
        "id": "JtsL3V60qKop",
        "outputId": "fff409ad-9be9-49aa-a818-30cf8bf0b01e"
      },
      "execution_count": 25,
      "outputs": [
        {
          "output_type": "stream",
          "name": "stdout",
          "text": [
            "RMSE: 112733.28\n"
          ]
        }
      ]
    },
    {
      "cell_type": "code",
      "source": [
        "print(\"\\tModelo1\\t\\tModelo2\\t\\tModelo3\\t\\tModelo4\\t\\tModelo5\\t\\tModelo6\\t\\tModeloF\")\n",
        "\n",
        "print(\"RMSE:  %.2f\\t%.2f\\t%.2f\\t%.2f\\t%.2f\\t%.2f\\t%.2f\\t\" % (preds1,preds2,preds3,preds4,preds5,preds6,predsf) )\n",
        "\n"
      ],
      "metadata": {
        "colab": {
          "base_uri": "https://localhost:8080/"
        },
        "id": "Iibl93BUu6Qm",
        "outputId": "8c991256-ec93-4094-c571-f93326bd0211"
      },
      "execution_count": 26,
      "outputs": [
        {
          "output_type": "stream",
          "name": "stdout",
          "text": [
            "\tModelo1\t\tModelo2\t\tModelo3\t\tModelo4\t\tModelo5\t\tModelo6\t\tModeloF\n",
            "RMSE:  115858.74\t115824.92\t114709.53\t114709.53\t114708.73\t114709.53\t112733.28\t\n"
          ]
        }
      ]
    },
    {
      "cell_type": "markdown",
      "source": [
        "###Conclusiones ..."
      ],
      "metadata": {
        "id": "Ip2Jkr2bV98C"
      }
    }
  ]
}